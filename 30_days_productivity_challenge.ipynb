{
 "cells": [
  {
   "cell_type": "markdown",
   "metadata": {},
   "source": [
    "Day 1: Division and Square-root\n",
    "\n",
    "Write a function called divide_or_square that takes one \n",
    "argument (a number), and returns the square root of the number \n",
    "if it is divisible by 5, returns its remainder if it is not divisible by \n",
    "5. For example, if you pass 10 as an argument, then your function \n",
    "should return 3.16 as the square root.\n",
    "\n"
   ]
  },
  {
   "cell_type": "code",
   "execution_count": 50,
   "metadata": {},
   "outputs": [
    {
     "name": "stdout",
     "output_type": "stream",
     "text": [
      "enter the number: 17\n",
      "The remainder of the (17, 5) is:  2\n"
     ]
    }
   ],
   "source": [
    "import math\n",
    "def divide_or_square():\n",
    "    \n",
    "    number=int(input('enter the number: '))\n",
    "    divisibility_num=5\n",
    "    \n",
    "#checking if number is divisible by 5\n",
    "    if number%divisibility_num==0:\n",
    "        print('the square root of', number, 'is',math.sqrt(number))\n",
    "\n",
    "\n",
    "    elif number%divisibility_num!=0:\n",
    "        print('The remainder of the',(number,divisibility_num), 'is: ',int(math.remainder(number,divisibility_num)))\n",
    "\n",
    "divide_or_square()"
   ]
  },
  {
   "cell_type": "markdown",
   "metadata": {},
   "source": []
  },
  {
   "cell_type": "code",
   "execution_count": null,
   "metadata": {},
   "outputs": [],
   "source": []
  }
 ],
 "metadata": {
  "kernelspec": {
   "display_name": "Python 3",
   "language": "python",
   "name": "python3"
  },
  "language_info": {
   "codemirror_mode": {
    "name": "ipython",
    "version": 3
   },
   "file_extension": ".py",
   "mimetype": "text/x-python",
   "name": "python",
   "nbconvert_exporter": "python",
   "pygments_lexer": "ipython3",
   "version": "3.7.6"
  }
 },
 "nbformat": 4,
 "nbformat_minor": 4
}
